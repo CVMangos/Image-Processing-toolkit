{
 "cells": [
  {
   "cell_type": "code",
   "execution_count": 1,
   "id": "initial_id",
   "metadata": {
    "ExecuteTime": {
     "end_time": "2024-03-12T22:04:34.164739Z",
     "start_time": "2024-03-12T22:04:33.749698Z"
    },
    "collapsed": true
   },
   "outputs": [],
   "source": [
    "import cv2"
   ]
  },
  {
   "cell_type": "markdown",
   "id": "f4c86e73b30932a0",
   "metadata": {
    "collapsed": false
   },
   "source": [
    "# Edge Detectors"
   ]
  },
  {
   "cell_type": "markdown",
   "id": "ad63e9121de5f55f",
   "metadata": {
    "collapsed": false
   },
   "source": [
    "## Sobel"
   ]
  },
  {
   "cell_type": "code",
   "execution_count": 2,
   "id": "fd820492eb2f079",
   "metadata": {
    "ExecuteTime": {
     "end_time": "2024-03-12T22:04:36.091067Z",
     "start_time": "2024-03-12T22:04:34.168209Z"
    },
    "collapsed": false
   },
   "outputs": [],
   "source": [
    "# Read the image\n",
    "img = cv2.imread('Images/digital_camera.jpg', cv2.IMREAD_GRAYSCALE)\n",
    "\n",
    "# Apply Sobel edge detection\n",
    "sobel_x = cv2.Sobel(img, cv2.CV_64F, 1, 0, ksize=3)\n",
    "sobel_y = cv2.Sobel(img, cv2.CV_64F, 0, 1, ksize=3)\n",
    "sobel_combined = cv2.sqrt(cv2.pow(sobel_x, 2.0), cv2.pow(sobel_y, 2.0))\n",
    "sobel_combined = (sobel_combined * 255 / sobel_combined.max()).astype(\"uint8\")\n",
    "# Display the result\n",
    "cv2.imshow('Sobel Edges', sobel_combined)\n",
    "cv2.waitKey(0)\n",
    "cv2.destroyAllWindows()\n"
   ]
  },
  {
   "cell_type": "markdown",
   "id": "4fb2a62d2d2acbe6",
   "metadata": {
    "collapsed": false
   },
   "source": [
    "![program](Images/img.png)\n",
    "![cv](Images/img_1.png)"
   ]
  },
  {
   "cell_type": "markdown",
   "id": "deb89c54915df53e",
   "metadata": {
    "collapsed": false
   },
   "source": [
    "## Roberts"
   ]
  },
  {
   "cell_type": "code",
   "execution_count": 3,
   "id": "f3ef5bf6be38ba66",
   "metadata": {
    "ExecuteTime": {
     "end_time": "2024-03-12T22:04:36.225354Z",
     "start_time": "2024-03-12T22:04:36.093222Z"
    },
    "collapsed": false
   },
   "outputs": [
    {
     "data": {
      "text/plain": [
       "True"
      ]
     },
     "execution_count": 3,
     "metadata": {},
     "output_type": "execute_result"
    }
   ],
   "source": [
    " \n",
    "import cv2  \n",
    "import numpy as np \n",
    "from scipy import ndimage \n",
    "  \n",
    "roberts_cross_v = np.array( [[1, 0 ], \n",
    "                             [0,-1 ]] ) \n",
    "  \n",
    "roberts_cross_h = np.array( [[ 0, 1 ], \n",
    "                             [ -1, 0 ]] ) \n",
    "  \n",
    "img = cv2.imread(\"Images/digital_camera.jpg\",0).astype('float64') \n",
    "img/=255.0\n",
    "vertical = ndimage.convolve( img, roberts_cross_v ) \n",
    "horizontal = ndimage.convolve( img, roberts_cross_h ) \n",
    "  \n",
    "edged_img = np.sqrt( np.square(horizontal) + np.square(vertical)) \n",
    "edged_img*=255\n",
    "cv2.imwrite(\"output.jpg\",edged_img)"
   ]
  },
  {
   "cell_type": "markdown",
   "id": "5ef2a363186a0cc8",
   "metadata": {
    "collapsed": false
   },
   "source": [
    "![program roberts](Images/img_2.png)\n",
    "![cv2 roberts](output.jpg)"
   ]
  },
  {
   "cell_type": "markdown",
   "id": "a987509032d22386",
   "metadata": {
    "collapsed": false
   },
   "source": [
    "## canny"
   ]
  },
  {
   "cell_type": "code",
   "execution_count": 8,
   "id": "14b368c12ec68e4c",
   "metadata": {
    "ExecuteTime": {
     "end_time": "2024-03-12T22:15:20.863819Z",
     "start_time": "2024-03-12T22:14:53.515698Z"
    },
    "collapsed": false
   },
   "outputs": [],
   "source": [
    "# Load an image\n",
    "image = cv2.imread(\"Images/digital_camera.jpg\")\n",
    "\n",
    "# Convert the image to grayscale\n",
    "gray_image = cv2.cvtColor(image, cv2.COLOR_BGR2GRAY)\n",
    "\n",
    "# Apply Canny edge detector\n",
    "edges = cv2.Canny(gray_image, 20, 50)  # You can adjust the threshold values (100 and 200) as needed\n",
    "\n",
    "# Display the result\n",
    "cv2.imshow('Original Image', image)\n",
    "cv2.imshow('Canny Edges', edges)\n",
    "cv2.waitKey(0)\n",
    "cv2.destroyAllWindows()"
   ]
  },
  {
   "cell_type": "markdown",
   "id": "aa79c9b865aa33ed",
   "metadata": {
    "collapsed": false
   },
   "source": [
    "# Thresholding"
   ]
  },
  {
   "cell_type": "markdown",
   "id": "04e814c9",
   "metadata": {},
   "source": [
    "## Local thresholding"
   ]
  },
  {
   "cell_type": "code",
   "execution_count": 3,
   "id": "0f8278c2",
   "metadata": {},
   "outputs": [
    {
     "ename": "KeyboardInterrupt",
     "evalue": "",
     "output_type": "error",
     "traceback": [
      "\u001b[0;31m---------------------------------------------------------------------------\u001b[0m",
      "\u001b[0;31mKeyboardInterrupt\u001b[0m                         Traceback (most recent call last)",
      "Cell \u001b[0;32mIn[3], line 20\u001b[0m\n\u001b[1;32m     18\u001b[0m cv2\u001b[38;5;241m.\u001b[39mimshow(\u001b[38;5;124m'\u001b[39m\u001b[38;5;124mOriginal Image\u001b[39m\u001b[38;5;124m'\u001b[39m, image)\n\u001b[1;32m     19\u001b[0m cv2\u001b[38;5;241m.\u001b[39mimshow(\u001b[38;5;124m'\u001b[39m\u001b[38;5;124mLocal Thresholded Image\u001b[39m\u001b[38;5;124m'\u001b[39m, threshold_image)\n\u001b[0;32m---> 20\u001b[0m \u001b[43mcv2\u001b[49m\u001b[38;5;241;43m.\u001b[39;49m\u001b[43mwaitKey\u001b[49m\u001b[43m(\u001b[49m\u001b[38;5;241;43m0\u001b[39;49m\u001b[43m)\u001b[49m\n\u001b[1;32m     21\u001b[0m cv2\u001b[38;5;241m.\u001b[39mdestroyAllWindows()\n",
      "\u001b[0;31mKeyboardInterrupt\u001b[0m: "
     ]
    }
   ],
   "source": [
    "import cv2\n",
    "\n",
    "# Load the image in grayscale\n",
    "image = cv2.imread(\"Images/digital_camera.jpg\", cv2.IMREAD_GRAYSCALE)\n",
    "\n",
    "# Perform local thresholding\n",
    "# Parameters:\n",
    "#   src: Input image (grayscale)\n",
    "#   maxValue: Maximum intensity value that can be assigned to the output pixels (typically 255 for 8-bit images)\n",
    "#   adaptiveMethod: Method used to calculate the threshold value (cv2.ADAPTIVE_THRESH_MEAN_C or cv2.ADAPTIVE_THRESH_GAUSSIAN_C)\n",
    "#   thresholdType: Type of thresholding to be applied (cv2.THRESH_BINARY or cv2.THRESH_BINARY_INV)\n",
    "#   blockSize: Size of the local region (odd number, e.g., 3, 5, 7, ...)\n",
    "#   C: Constant subtracted from the mean or weighted mean (positive or negative value)\n",
    "#   Output: Resulting binary image\n",
    "threshold_image = cv2.adaptiveThreshold(image, 255, cv2.ADAPTIVE_THRESH_MEAN_C, cv2.THRESH_BINARY, blockSize=11, C=2)\n",
    "\n",
    "# Display the original and thresholded images\n",
    "cv2.imshow('Original Image', image)\n",
    "cv2.imshow('Local Thresholded Image', threshold_image)\n",
    "cv2.waitKey(0)\n",
    "cv2.destroyAllWindows()\n"
   ]
  }
 ],
 "metadata": {
  "kernelspec": {
   "display_name": "Python 3",
   "language": "python",
   "name": "python3"
  },
  "language_info": {
   "codemirror_mode": {
    "name": "ipython",
    "version": 3
   },
   "file_extension": ".py",
   "mimetype": "text/x-python",
   "name": "python",
   "nbconvert_exporter": "python",
   "pygments_lexer": "ipython3",
   "version": "3.10.12"
  }
 },
 "nbformat": 4,
 "nbformat_minor": 5
}
